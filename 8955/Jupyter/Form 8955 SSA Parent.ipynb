{
 "cells": [
  {
   "cell_type": "code",
   "execution_count": 7,
   "id": "304f6fe5",
   "metadata": {},
   "outputs": [],
   "source": [
    "import subprocess\n",
    "import os\n",
    "import datetime\n",
    "import logging\n",
    "\n",
    "import smtplib\n",
    "from email.mime.multipart import MIMEMultipart\n",
    "from email.mime.text import MIMEText\n",
    "from email.mime.base import MIMEBase\n",
    "from email import encoders"
   ]
  },
  {
   "cell_type": "code",
   "execution_count": 8,
   "id": "296cad32",
   "metadata": {},
   "outputs": [],
   "source": [
    "def mail_script_failed(script_name):\n",
    "    html_head = \"\"\"\n",
    "    <html xmlns:v=\"urn:schemas-microsoft-com:vml\" xmlns:o=\"urn:schemas-microsoft-com:office:office\" xmlns:w=\"urn:schemas-microsoft-com:office:word\" xmlns:m=\"http://schemas.microsoft.com/office/2004/12/omml\" xmlns=\"http://www.w3.org/TR/REC-html40\">\n",
    "    <head><META HTTP-EQUIV=\"Content-Type\" CONTENT=\"text/html; charset=us-ascii\"><meta name=Generator content=\"Microsoft Word 15 (filtered medium)\">\n",
    "    </head>\"\"\"\n",
    "    \n",
    "    toaddr = ['jworms@nova401k.com', 'msvehla@nova401k.com']\n",
    "    cc_list = []\n",
    "\n",
    "    html = html_head\n",
    "\n",
    "    fromaddr = 'automation@nova401k.com'\n",
    "    password = 'Rub73595'\n",
    "\n",
    "    toaddrs = toaddr + cc_list\n",
    "\n",
    "    if len(toaddrs) == 0:\n",
    "        x = \"No emails to send\"\n",
    "    else:\n",
    "        msg = MIMEMultipart('alternative')\n",
    "\n",
    "        msg['From'] = fromaddr\n",
    "        msg['To'] = ','.join(toaddr)\n",
    "        msg['CC'] = ','.join(cc_list)\n",
    "        subject = f'Script {script_name} failed to run today'\n",
    "        msg['Subject'] = subject\n",
    "        part = MIMEText(html, 'html')\n",
    "        msg.attach(part)\n",
    "        \n",
    "\n",
    "\n",
    "        with smtplib.SMTP('smtp.office365.com', 587) as server:\n",
    "            server.starttls()\n",
    "            server.login(fromaddr, password)\n",
    "            x = server.sendmail(fromaddr, toaddrs, msg.as_string())\n"
   ]
  },
  {
   "cell_type": "code",
   "execution_count": 9,
   "id": "6a6e241a",
   "metadata": {},
   "outputs": [],
   "source": [
    "def run_child_script(script_name, log_folder):\n",
    "    try:\n",
    "        # Create log folder if it doesn't exist\n",
    "        os.makedirs(log_folder, exist_ok=True)\n",
    "        \n",
    "        # Define log file path\n",
    "        log_file = os.path.join(log_folder, f\"{script_name}_log.txt\")\n",
    "\n",
    "        # Open log file in append mode\n",
    "        with open(log_file, \"a\") as f:\n",
    "            # Run the child script and capture stdout and stderr\n",
    "            subprocess.run([\"python\", script_name], stdout=f, stderr=subprocess.STDOUT, check=True)\n",
    "    except Exception as e:\n",
    "        print(f\"Error running {script_name}: {e}\")\n",
    "        raise\n",
    "#         mail_script_failed(script_name)       \n"
   ]
  },
  {
   "cell_type": "code",
   "execution_count": 11,
   "id": "3968503a",
   "metadata": {},
   "outputs": [],
   "source": [
    "def main():\n",
    "\n",
    "    child_scripts = [\"Form 8955-SSA Project Launch Triggers (Ticket #25009).py\", \n",
    "                     \"Form 8955-SSA (Automated) task Completion - Form 8955-SSA (Ticket #25012) Part 1.py\",\n",
    "                     \"Form 8955-SSA (Automated) task Completion - Form 8955-SSA  (Ticket #25012) Part 2.py\",\n",
    "                     \"Form 8955-SSA Project - Delivery- Form 8955-SSA Task Automation Steps (Ticket #25039).py\"]\n",
    "    \n",
    "    dt = datetime.datetime.now().strftime('%Y.%m.%d.%I.%M.%S')\n",
    "    log_folder = r\"Y:\\Automation\\Team Scripts\\Anjana Shaji\\8955 SSA DF\\Logs\" \n",
    "    combined_log_folder = r\"Y:\\Automation\\Scheduled\\stdout\" \n",
    "    combined_log_file = f\"{combined_log_folder}\\Form_8955SSA_combined_log_{dt}.txt\"\n",
    "    log_file = os.path.join(log_folder, \"parent_script.log\")\n",
    "    \n",
    "    logging.basicConfig(\n",
    "    filename=log_file,\n",
    "    level=logging.INFO,\n",
    "    format='%(asctime)s - %(name)s - %(levelname)s - %(message)s'\n",
    "    )\n",
    "\n",
    "    logger = logging.getLogger(__name__)\n",
    "    logger.info(f'\\n\\n\\n------------------ {dt} --------------')\n",
    "    logger.info('Parent!!!!!!!!!!!!!!!')\n",
    "    logger.info(\"Starting parent script\")\n",
    "    \n",
    "#     Run each child script sequentially\n",
    "    for script_name in child_scripts:\n",
    "        logger.info(f\"Running {script_name}...\")\n",
    "        try:\n",
    "            run_child_script(script_name, log_folder)\n",
    "        except Exception as e:\n",
    "            print(\"Halting further execution due to error in child script.\")\n",
    "            logger.info(\"Halting further execution due to error in child script.\")\n",
    "            break\n",
    "        logger.info(f\"Completed {script_name}\\n\")\n",
    "        \n",
    "    logger.info(f\"Combined log file written to {combined_log_file}\")\n",
    "    logger.info(\"Parent script completed\")"
   ]
  },
  {
   "cell_type": "code",
   "execution_count": 12,
   "id": "b550ff95",
   "metadata": {},
   "outputs": [
    {
     "name": "stdout",
     "output_type": "stream",
     "text": [
      "Error combining log files: [WinError 32] The process cannot access the file because it is being used by another process: 'Y:\\\\Automation\\\\Team Scripts\\\\Anjana Shaji\\\\8955 SSA DF\\\\Logs\\\\Form 8955-SSA (Automated) task Completion - Form 8955-SSA  (Ticket #25012) Part 2.py_log.txt'\n"
     ]
    }
   ],
   "source": [
    "if __name__ == \"__main__\":\n",
    "    main()\n"
   ]
  },
  {
   "cell_type": "code",
   "execution_count": null,
   "id": "89dedbe2",
   "metadata": {},
   "outputs": [],
   "source": []
  }
 ],
 "metadata": {
  "kernelspec": {
   "display_name": "Python 3 (ipykernel)",
   "language": "python",
   "name": "python3"
  },
  "language_info": {
   "codemirror_mode": {
    "name": "ipython",
    "version": 3
   },
   "file_extension": ".py",
   "mimetype": "text/x-python",
   "name": "python",
   "nbconvert_exporter": "python",
   "pygments_lexer": "ipython3",
   "version": "3.9.10"
  }
 },
 "nbformat": 4,
 "nbformat_minor": 5
}
